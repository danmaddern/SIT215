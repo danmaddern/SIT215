{
 "cells": [
  {
   "cell_type": "code",
   "execution_count": 44,
   "metadata": {},
   "outputs": [],
   "source": [
    "from IPython.display import clear_output\n",
    "import gym as g\n",
    "import random as rnd\n",
    "import numpy as np\n",
    "import time\n",
    "from sklearn.preprocessing import KBinsDiscretizer\n",
    "import math\n",
    "import matplotlib.pyplot as plt"
   ]
  },
  {
   "cell_type": "code",
   "execution_count": 45,
   "metadata": {},
   "outputs": [],
   "source": [
    "#Implement cartpole enviroment\n",
    "env = g.make(\"CartPole-v1\").env"
   ]
  },
  {
   "cell_type": "code",
   "execution_count": 46,
   "metadata": {},
   "outputs": [
    {
     "name": "stdout",
     "output_type": "stream",
     "text": [
      "Discrete(2)\n",
      "Box([-4.8000002e+00 -3.4028235e+38 -4.1887903e-01 -3.4028235e+38], [4.8000002e+00 3.4028235e+38 4.1887903e-01 3.4028235e+38], (4,), float32)\n",
      "[4.8000002e+00 3.4028235e+38 4.1887903e-01 3.4028235e+38]\n",
      "[-4.8000002e+00 -3.4028235e+38 -4.1887903e-01 -3.4028235e+38]\n"
     ]
    }
   ],
   "source": [
    "#Printing Action and State space \n",
    "print(env.action_space)\n",
    "print(env.observation_space)\n",
    "print(env.observation_space.high)\n",
    "print(env.observation_space.low)"
   ]
  },
  {
   "cell_type": "code",
   "execution_count": 47,
   "metadata": {},
   "outputs": [],
   "source": [
    "#this function makes the choice to go left or right\n",
    "def left_or_right(parameter,obs):\n",
    "    if (np.matmul(parameter,obs) < 0):\n",
    "        return 0\n",
    "    else:\n",
    "        return 1"
   ]
  },
  {
   "cell_type": "code",
   "execution_count": 48,
   "metadata": {},
   "outputs": [],
   "source": [
    "#Function to run a single epsiode with Random values\n",
    "def episode_run(env, parameter,timesteps):\n",
    "    #We reset here to ensure its a random situation\n",
    "    obs = env.reset() \n",
    "    \n",
    "    #Initialize reward\n",
    "    total_reward = 0\n",
    "    \n",
    "    #Loop through untill pole falls\n",
    "    for i in range(timesteps):\n",
    "        \n",
    "        #Make the choice left or right\n",
    "        choice = left_or_right(parameter,obs)\n",
    "        obs, reward, done, info = env.step(choice)\n",
    "        #Update total episode's reward after the action\n",
    "        total_reward = total_reward + reward\n",
    "        \n",
    "        #Check if the pole is fallen after the timestep\n",
    "        if (done == True):\n",
    "            break\n",
    "    \n",
    "    return total_reward"
   ]
  },
  {
   "cell_type": "code",
   "execution_count": 49,
   "metadata": {},
   "outputs": [],
   "source": [
    "def random_search():\n",
    "    #Initialize variable to store reward and paramater.\n",
    "    parameter = 0\n",
    "    reward = 0\n",
    "\n",
    "    #Loop through numbers of episode with random \n",
    "    #episode number\n",
    "    episode_number = 1000  \n",
    "    for i in range(episode_number):\n",
    "        temp_parameter = np.random.rand(4)*2 - 1\n",
    "        temp_reward = episode_run(env,temp_parameter,timesteps = 200)\n",
    "        if (temp_reward > reward):\n",
    "\n",
    "            #swap temp values in to full values\n",
    "            parameter = temp_parameter\n",
    "            reward = temp_reward\n",
    "        #if 200 steps reached success\n",
    "        if (temp_reward == 200):            \n",
    "            #Return episode needed for success\n",
    "            return i\n",
    "            break\n",
    "    print(parameter,reward)"
   ]
  },
  {
   "cell_type": "code",
   "execution_count": 50,
   "metadata": {},
   "outputs": [
    {
     "name": "stdout",
     "output_type": "stream",
     "text": [
      "Average episode for success for 100 train times: 13.53\n"
     ]
    }
   ],
   "source": [
    "results =[]\n",
    "\n",
    "#Loop through 100 time of random search method\n",
    "for i in range(100):\n",
    "    results.append(random_search())\n",
    "print(\"Average episode for success for 100 train times:\",sum(results)/100)"
   ]
  },
  {
   "cell_type": "code",
   "execution_count": 51,
   "metadata": {},
   "outputs": [
    {
     "data": {
      "image/png": "[encoded data removed]",
      "text/plain": [
       "<Figure size 432x288 with 1 Axes>"
      ]
     },
     "metadata": {
      "needs_background": "light"
     },
     "output_type": "display_data"
    }
   ],
   "source": [
    "# plot results\n",
    "plt.hist(results,50, facecolor='b')\n",
    "plt.xlabel('Needed episode to reach 200 success timestep')\n",
    "plt.ylabel('Frequency')\n",
    "plt.title('Random search histogram')\n",
    "plt.show()"
   ]
  },
  {
   "cell_type": "code",
   "execution_count": null,
   "metadata": {},
   "outputs": [],
   "source": []
  },
  {
   "cell_type": "code",
   "execution_count": null,
   "metadata": {},
   "outputs": [],
   "source": []
  }
 ],
 "metadata": {
  "kernelspec": {
   "display_name": "Python 3",
   "language": "python",
   "name": "python3"
  },
  "language_info": {
   "codemirror_mode": {
    "name": "ipython",
    "version": 3
   },
   "file_extension": ".py",
   "mimetype": "text/x-python",
   "name": "python",
   "nbconvert_exporter": "python",
   "pygments_lexer": "ipython3",
   "version": "3.8.5"
  }
 },
 "nbformat": 4,
 "nbformat_minor": 4
}
